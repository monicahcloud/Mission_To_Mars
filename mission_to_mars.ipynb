{
 "cells": [
  {
   "cell_type": "code",
   "execution_count": 1,
   "metadata": {},
   "outputs": [],
   "source": [
    "# Dependencies\n",
    "from bs4 import BeautifulSoup\n",
    "import requests\n",
    "import os\n",
    "from splinter import Browser\n",
    "import time\n",
    "import pymongo\n",
    "import shutil"
   ]
  },
  {
   "cell_type": "code",
   "execution_count": 57,
   "metadata": {},
   "outputs": [],
   "source": [
    "browser = Browser('chrome')"
   ]
  },
  {
   "cell_type": "markdown",
   "metadata": {},
   "source": [
    "# NASA Mars News"
   ]
  },
  {
   "cell_type": "code",
   "execution_count": 3,
   "metadata": {},
   "outputs": [],
   "source": [
    "# Create BeautifulSoup object; parse with 'html.parser'.\n",
    "url = 'https://mars.nasa.gov/news/?page=0&per_page=40&order=publish_date+desc%2Ccreated_at+desc&search=&category=19%2C165%2C184%2C204&blank_scope=Latest'\n",
    "browser.visit(url)\n",
    "soup = BeautifulSoup(browser.html, 'lxml')"
   ]
  },
  {
   "cell_type": "code",
   "execution_count": 5,
   "metadata": {},
   "outputs": [
    {
     "data": {
      "text/plain": [
       "[{'ID': 0,\n",
       "  'News Title': \"3 Things We've Learned From NASA's Mars InSight \",\n",
       "  'Description': 'Scientists are finding new mysteries since the geophysics mission landed two years ago.'},\n",
       " {'ID': 1,\n",
       "  'News Title': \"From JPL's Mailroom to Mars and Beyond\",\n",
       "  'Description': 'Bill Allen has thrived as the mechanical systems design lead for three Mars rover missions, but he got his start as a teenager sorting letters for the NASA center.'},\n",
       " {'ID': 2,\n",
       "  'News Title': \"5 Hidden Gems Are Riding Aboard NASA's Perseverance Rover\",\n",
       "  'Description': \"The symbols, mottos, and small objects added to the agency's newest Mars rover serve a variety of purposes, from functional to decorative.\"},\n",
       " {'ID': 3,\n",
       "  'News Title': 'MOXIE Could Help Future Rockets Launch Off Mars',\n",
       "  'Description': \"NASA's Perseverance rover carries a device to convert Martian air into oxygen that, if produced on a larger scale, could be used not just for breathing, but also for fuel.\"},\n",
       " {'ID': 4,\n",
       "  'News Title': \"Hear Audio From NASA's Perseverance As It Travels Through Deep Space\",\n",
       "  'Description': \"The first to be rigged with microphones, the agency's latest Mars rover picked up the subtle sounds of its own inner workings during interplanetary flight.\"},\n",
       " {'ID': 5,\n",
       "  'News Title': 'Mars Is Getting a New Robotic Meteorologist',\n",
       "  'Description': \"Sensors on NASA's Perseverance will help prepare for future human exploration by taking weather measurements and studying dust particles.\"},\n",
       " {'ID': 6,\n",
       "  'News Title': 'Heat and Dust Help Launch Martian Water Into Space, Scientists Find',\n",
       "  'Description': 'Scientists using an instrument aboard NASA’s Mars Atmosphere and Volatile EvolutioN, or MAVEN, spacecraft have discovered that water vapor near the surface of the Red Planet is lofted higher into the atmosphere than anyone expected was possible. '},\n",
       " {'ID': 7,\n",
       "  'News Title': \"NASA's Curiosity Takes Selfie With 'Mary Anning' on the Red Planet\",\n",
       "  'Description': 'The Mars rover has drilled three samples of rock in this clay-enriched region since arriving in July.'},\n",
       " {'ID': 8,\n",
       "  'News Title': 'Independent Review Indicates NASA Prepared for Mars Sample Return Campaign',\n",
       "  'Description': 'NASA released an independent review report Tuesday indicating the agency is well positioned for its Mars Sample Return campaign to bring pristine samples from Mars to Earth for scientific study.'},\n",
       " {'ID': 9,\n",
       "  'News Title': \"NASA's Perseverance Rover 100 Days Out\",\n",
       "  'Description': \"Mark your calendars: The agency's latest rover has only about 8,640,000 seconds to go before it touches down on the Red Planet, becoming history's next Mars car.\"},\n",
       " {'ID': 10,\n",
       "  'News Title': \"NASA's Perseverance Rover Is Midway to Mars \",\n",
       "  'Description': \"Sometimes half measures can be a good thing – especially on a journey this long. The agency's latest rover only has about 146 million miles left to reach its destination.\"},\n",
       " {'ID': 11,\n",
       "  'News Title': 'Sensors on Mars 2020 Spacecraft Answer Long-Distance Call From Earth',\n",
       "  'Description': \"Instruments tailored to collect data during the descent of NASA's next rover through the Red Planet's atmosphere have been checked in flight.\"},\n",
       " {'ID': 12,\n",
       "  'News Title': \"NASA's Perseverance Rover Bringing 3D-Printed Metal Parts to Mars\",\n",
       "  'Description': \"For hobbyists and makers, 3D printing expands creative possibilities; for specialized engineers, it's also key to next-generation spacecraft design.\"},\n",
       " {'ID': 13,\n",
       "  'News Title': \"NASA InSight's 'Mole' Is Out of Sight\",\n",
       "  'Description': \"Now that the heat probe is just below the Martian surface, InSight's arm will scoop some additional soil on top to help it keep digging so it can take Mars' temperature.\"},\n",
       " {'ID': 14,\n",
       "  'News Title': \"NASA's Perseverance Rover Will Peer Beneath Mars' Surface \",\n",
       "  'Description': \"The agency's newest rover will use the first ground-penetrating radar instrument on the Martian surface to help search for signs of past microbial life. \"},\n",
       " {'ID': 15,\n",
       "  'News Title': 'AI Is Helping Scientists Discover Fresh Craters on Mars',\n",
       "  'Description': \"It's the first time machine learning has been used to find previously unknown craters on the Red Planet.\"},\n",
       " {'ID': 16,\n",
       "  'News Title': \"NASA's New Mars Rover Is Ready for Space Lasers\",\n",
       "  'Description': 'Perseverance is one of a few Mars spacecraft carrying laser retroreflectors. The devices could provide new science and safer Mars landings in the future.'},\n",
       " {'ID': 17,\n",
       "  'News Title': \"NASA's New Mars Rover Will Use X-Rays to Hunt Fossils\",\n",
       "  'Description': \"PIXL, an instrument on the end of the Perseverance rover's arm, will search for chemical fingerprints left by ancient microbes.\"},\n",
       " {'ID': 18,\n",
       "  'News Title': 'My Culture, My Voice',\n",
       "  'Description': 'In honor of Hispanic Heritage Month, Christina Hernandez, an instrument engineer on the Mars 2020 mission, talks about her childhood and journey to NASA.'},\n",
       " {'ID': 19,\n",
       "  'News Title': \"NASA Readies Perseverance Mars Rover's Earthly Twin \",\n",
       "  'Description': \"Did you know NASA's next Mars rover has a nearly identical sibling on Earth for testing? Even better, it's about to roll for the first time through a replica Martian landscape.\"},\n",
       " {'ID': 20,\n",
       "  'News Title': \"NASA Engineers Checking InSight's Weather Sensors\",\n",
       "  'Description': 'An electronics issue is suspected to be preventing the sensors from sharing their data about Mars weather with the spacecraft.'},\n",
       " {'ID': 21,\n",
       "  'News Title': \"Follow NASA's Perseverance Rover in Real Time on Its Way to Mars\",\n",
       "  'Description': \"A crisply rendered web application can show you where the agency's Mars 2020 mission is right now as it makes its way to the Red Planet for a Feb. 18, 2021, landing.\"},\n",
       " {'ID': 22,\n",
       "  'News Title': 'NASA Establishes Board to Initially Review Mars Sample Return Plans',\n",
       "  'Description': 'The board will assist with analysis of current plans and goals for one of the most difficult missions humanity has ever undertaken.'},\n",
       " {'ID': 23,\n",
       "  'News Title': \"NASA's Ingenuity Mars Helicopter Recharges Its Batteries in Flight\",\n",
       "  'Description': 'Headed to the Red Planet with the Perseverance rover, the pioneering helicopter is powered up for the first time in interplanetary space as part of a systems check.'},\n",
       " {'ID': 24,\n",
       "  'News Title': \"Celebrate Mars Reconnaissance Orbiter's Views From Above\",\n",
       "  'Description': 'Marking its 15th anniversary since launch, one of the oldest spacecraft at the Red Planet has provided glimpses of dust devils, avalanches, and more.'},\n",
       " {'ID': 25,\n",
       "  'News Title': \"NASA's MAVEN Observes Martian Night Sky Pulsing in Ultraviolet Light\",\n",
       "  'Description': 'Vast areas of the Martian night sky pulse in ultraviolet light, according to images from NASA’s MAVEN spacecraft. The results are being used to illuminate complex circulation patterns in the Martian atmosphere.'},\n",
       " {'ID': 26,\n",
       "  'News Title': \"8 Martian Postcards to Celebrate Curiosity's Landing Anniversary\",\n",
       "  'Description': 'The NASA rover touched down eight years ago, on Aug. 5, 2012, and will soon be joined by a second rover, Perseverance.'},\n",
       " {'ID': 27,\n",
       "  'News Title': 'NASA, ULA Launch Mars 2020 Perseverance Rover Mission to Red Planet',\n",
       "  'Description': \"The agency's Mars 2020 mission is on its way. It will land at Jezero Crater in about seven months, on Feb. 18, 2021. \"},\n",
       " {'ID': 28,\n",
       "  'News Title': \"NASA's Perseverance Rover Will Carry First Spacesuit Materials to Mars\",\n",
       "  'Description': 'In a Q&A, spacesuit designer Amy Ross explains how five samples, including a piece of helmet visor, will be tested aboard the rover, which is targeting a July 30 launch. '},\n",
       " {'ID': 29,\n",
       "  'News Title': \"A New Video Captures the Science of NASA's Perseverance Mars Rover\",\n",
       "  'Description': 'With a targeted launch date of July 30, the next robotic scientist NASA is sending to the to the Red Planet has big ambitions.'},\n",
       " {'ID': 30,\n",
       "  'News Title': 'NASA Invites Public to Share Excitement of Mars 2020 Perseverance Rover Launch',\n",
       "  'Description': 'There are lots of ways to participate in the historic event, which is targeted for July 30.'},\n",
       " {'ID': 31,\n",
       "  'News Title': \"NASA's Mars Perseverance Rover Passes Flight Readiness Review\",\n",
       "  'Description': \"\\u200bThe agency's Mars 2020 mission has one more big prelaunch review – the Launch Readiness Review, on July 27.\"},\n",
       " {'ID': 32,\n",
       "  'News Title': 'NASA to Broadcast Mars 2020 Perseverance Launch, Prelaunch Activities',\n",
       "  'Description': 'Starting July 27, news activities will cover everything from mission engineering and science to returning samples from Mars to, of course, the launch itself.'},\n",
       " {'ID': 33,\n",
       "  'News Title': \"6 Things to Know About NASA's Ingenuity Mars Helicopter\",\n",
       "  'Description': 'The first helicopter attempting to fly on another planet is a marvel of engineering. Get up to speed with these key facts about its plans.'},\n",
       " {'ID': 34,\n",
       "  'News Title': 'Join NASA for the Launch of the Mars 2020 Perseverance Rover',\n",
       "  'Description': 'No matter where you live, choose from a menu of activities to join NASA as we \"Countdown to Mars\" and launch the Perseverance rover to the Red Planet.'},\n",
       " {'ID': 35,\n",
       "  'News Title': \"NASA's Perseverance Rover Attached to Atlas V Rocket\",\n",
       "  'Description': 'Ready for its launch later in the month, the Mars-bound rover will touch terra firma no more.'},\n",
       " {'ID': 36,\n",
       "  'News Title': '7 Things to Know About the Mars 2020 Perseverance Rover Mission',\n",
       "  'Description': \"NASA's next rover to the Red Planet is slated to launch no earlier than July 30. These highlights will get you up to speed on the ambitious mission.\"},\n",
       " {'ID': 37,\n",
       "  'News Title': \"NASA's InSight Flexes Its Arm While Its 'Mole' Hits Pause\",\n",
       "  'Description': \"Now that the lander's robotic arm has helped the mole get underground, it will resume science activities that have been on hold.\"},\n",
       " {'ID': 38,\n",
       "  'News Title': \"Curiosity Mars Rover's Summer Road Trip Has Begun\",\n",
       "  'Description': 'After more than a year in the \"clay-bearing unit,\" Curiosity is making a mile-long journey around some deep sand so that it can explore higher up Mount Sharp.'},\n",
       " {'ID': 39,\n",
       "  'News Title': \"How NASA's Mars Helicopter Will Reach the Red Planet's Surface\",\n",
       "  'Description': 'The small craft will seek to prove that powered, controlled flight is possible on another planet. But just getting it onto the surface of Mars will take a whole lot of ingenuity.'}]"
      ]
     },
     "execution_count": 5,
     "metadata": {},
     "output_type": "execute_result"
    }
   ],
   "source": [
    "titles_list = []\n",
    "title_count = 0\n",
    "titles = soup.find_all(\"li\", class_=\"slide\") \n",
    "time.sleep(2)\n",
    "\n",
    "for title in titles:\n",
    "        news_title = title.find('div', class_=\"content_title\").text\n",
    "        paragraph = title.find('div', class_ = \"article_teaser_body\").text\n",
    "        browser.links.find_by_partial_text('More')\n",
    "        \n",
    "        titles_list.append({\n",
    "            \"ID\" : title_count, \n",
    "            \"News Title\": news_title,\n",
    "            \"Description\" : paragraph\n",
    "        })\n",
    "        title_count = title_count +1\n",
    "      \n",
    "        \n",
    "titles_list"
   ]
  },
  {
   "cell_type": "markdown",
   "metadata": {},
   "source": [
    "# JPL Mars Space Images - Featured Images"
   ]
  },
  {
   "cell_type": "code",
   "execution_count": 61,
   "metadata": {},
   "outputs": [],
   "source": [
    "# Open browser to JPL Featured Image\n",
    "\n",
    "image_url = 'https://www.jpl.nasa.gov/spaceimages/?search=&category=Mars'\n",
    "browser.visit(image_url)\n",
    "soup = BeautifulSoup(browser.html, 'lxml')"
   ]
  },
  {
   "cell_type": "code",
   "execution_count": 62,
   "metadata": {},
   "outputs": [],
   "source": [
    "# Click through to find full image\n",
    "browser.click_link_by_partial_text('FULL IMAGE')"
   ]
  },
  {
   "cell_type": "code",
   "execution_count": 63,
   "metadata": {},
   "outputs": [],
   "source": [
    "# Click through to find full image\n",
    "browser.click_link_by_partial_text('more info')"
   ]
  },
  {
   "cell_type": "code",
   "execution_count": 64,
   "metadata": {},
   "outputs": [],
   "source": [
    "# Click again for full large image\n",
    "browser.click_link_by_partial_text('.jpg')"
   ]
  },
  {
   "cell_type": "code",
   "execution_count": 70,
   "metadata": {},
   "outputs": [
    {
     "name": "stdout",
     "output_type": "stream",
     "text": [
      "https://photojournal.jpl.nasa.gov/jpeg/PIA19673.jpg\n"
     ]
    }
   ],
   "source": [
    "# Display full link to featured image\n",
    "html = browser.html\n",
    "soup = BeautifulSoup(html, 'html.parser')\n",
    "\n",
    "feature_img = soup.find('img').get('src')\n",
    "\n",
    "print(featured_img)\n"
   ]
  },
  {
   "cell_type": "code",
   "execution_count": 71,
   "metadata": {},
   "outputs": [],
   "source": [
    "# Use the requests library to download and save the image from the `img_url` above\n",
    "response = requests.get(feature_img, stream=True)\n",
    "with open('feature_img.png', 'wb') as out_file:\n",
    "    shutil.copyfileobj(response.raw, out_file)"
   ]
  },
  {
   "cell_type": "code",
   "execution_count": 73,
   "metadata": {},
   "outputs": [
    {
     "data": {
      "text/html": [
       "<img src=\"feature_img.png\"/>"
      ],
      "text/plain": [
       "<IPython.core.display.Image object>"
      ]
     },
     "execution_count": 73,
     "metadata": {},
     "output_type": "execute_result"
    }
   ],
   "source": [
    "# Display the featured image with IPython.display\n",
    "from IPython.display import Image\n",
    "Image(url='feature_img.png')"
   ]
  },
  {
   "cell_type": "markdown",
   "metadata": {},
   "source": [
    "# Mars Facts\n"
   ]
  },
  {
   "cell_type": "code",
   "execution_count": 52,
   "metadata": {},
   "outputs": [
    {
     "name": "stdout",
     "output_type": "stream",
     "text": [
      "https://space-facts.com/wp-content/uploads/mars.jpg\n"
     ]
    }
   ],
   "source": [
    "def getdata(url):  \n",
    "    r = requests.get(url)  \n",
    "    return r.text  \n",
    "    \n",
    "htmldata = getdata(\"https://space-facts.com/mars/\")  \n",
    "soup = BeautifulSoup(htmldata, 'html.parser')  \n",
    "\n",
    "img = soup.find(\"img\", class_ = \"aligncenter size-full wp-image-5696\")['src']\n",
    " \n",
    "print(img)\n"
   ]
  },
  {
   "cell_type": "code",
   "execution_count": 53,
   "metadata": {},
   "outputs": [],
   "source": [
    "# Use the requests library to download and save the image from the `img_url` above\n",
    "import requests\n",
    "import shutil\n",
    "response = requests.get(img, stream=True)\n",
    "with open('mars.png', 'wb') as out_file:\n",
    "    shutil.copyfileobj(response.raw, out_file)"
   ]
  },
  {
   "cell_type": "code",
   "execution_count": 54,
   "metadata": {},
   "outputs": [
    {
     "data": {
      "text/html": [
       "<img src=\"mars.png\"/>"
      ],
      "text/plain": [
       "<IPython.core.display.Image object>"
      ]
     },
     "execution_count": 54,
     "metadata": {},
     "output_type": "execute_result"
    }
   ],
   "source": [
    "# Display the image with IPython.display\n",
    "from IPython.display import Image\n",
    "Image(url='mars.png')"
   ]
  },
  {
   "cell_type": "code",
   "execution_count": 55,
   "metadata": {},
   "outputs": [
    {
     "data": {
      "text/html": [
       "<div>\n",
       "<style scoped>\n",
       "    .dataframe tbody tr th:only-of-type {\n",
       "        vertical-align: middle;\n",
       "    }\n",
       "\n",
       "    .dataframe tbody tr th {\n",
       "        vertical-align: top;\n",
       "    }\n",
       "\n",
       "    .dataframe thead th {\n",
       "        text-align: right;\n",
       "    }\n",
       "</style>\n",
       "<table border=\"1\" class=\"dataframe\">\n",
       "  <thead>\n",
       "    <tr style=\"text-align: right;\">\n",
       "      <th></th>\n",
       "      <th>Mars Profile</th>\n",
       "      <th></th>\n",
       "    </tr>\n",
       "  </thead>\n",
       "  <tbody>\n",
       "    <tr>\n",
       "      <th>0</th>\n",
       "      <td>Equatorial Diameter:</td>\n",
       "      <td>6,792 km</td>\n",
       "    </tr>\n",
       "    <tr>\n",
       "      <th>1</th>\n",
       "      <td>Polar Diameter:</td>\n",
       "      <td>6,752 km</td>\n",
       "    </tr>\n",
       "    <tr>\n",
       "      <th>2</th>\n",
       "      <td>Mass:</td>\n",
       "      <td>6.39 × 10^23 kg (0.11 Earths)</td>\n",
       "    </tr>\n",
       "    <tr>\n",
       "      <th>3</th>\n",
       "      <td>Moons:</td>\n",
       "      <td>2 (Phobos &amp; Deimos)</td>\n",
       "    </tr>\n",
       "    <tr>\n",
       "      <th>4</th>\n",
       "      <td>Orbit Distance:</td>\n",
       "      <td>227,943,824 km (1.38 AU)</td>\n",
       "    </tr>\n",
       "  </tbody>\n",
       "</table>\n",
       "</div>"
      ],
      "text/plain": [
       "           Mars Profile                               \n",
       "0  Equatorial Diameter:                       6,792 km\n",
       "1       Polar Diameter:                       6,752 km\n",
       "2                 Mass:  6.39 × 10^23 kg (0.11 Earths)\n",
       "3                Moons:            2 (Phobos & Deimos)\n",
       "4       Orbit Distance:       227,943,824 km (1.38 AU)"
      ]
     },
     "execution_count": 55,
     "metadata": {},
     "output_type": "execute_result"
    }
   ],
   "source": [
    "import pandas as pd\n",
    "#use the read_html function in Pandas to automatically scrape any tabular data from a page.\n",
    "url = 'https://space-facts.com/mars/'\n",
    "\n",
    "\n",
    "dfs = pd.read_html(url)\n",
    "df = dfs[0]\n",
    "df.columns = ['Mars Profile', ' ']\n",
    "df.head()"
   ]
  },
  {
   "cell_type": "markdown",
   "metadata": {},
   "source": [
    "# Mars Hemispheres\n"
   ]
  },
  {
   "cell_type": "code",
   "execution_count": 82,
   "metadata": {},
   "outputs": [],
   "source": [
    "# Open browser \n",
    "browser = Browser('chrome')\n",
    "nasa_url = 'https://astrogeology.usgs.gov/search/results?q=hemisphere+enhanced&k1=target&v1=Mars'\n",
    "browser.visit(nasa_url)\n",
    "soup = BeautifulSoup(browser.html, 'lxml')\n"
   ]
  },
  {
   "cell_type": "code",
   "execution_count": 94,
   "metadata": {},
   "outputs": [
    {
     "name": "stdout",
     "output_type": "stream",
     "text": [
      "/cache/images/39d3266553462198bd2fbc4d18fbed17_cerberus_enhanced.tif_thumb.png\n"
     ]
    }
   ],
   "source": [
    "hemi1_img = soup.find('img', class_ = 'thumb').get('src')\n",
    "\n",
    "print(hemi1_img)"
   ]
  },
  {
   "cell_type": "code",
   "execution_count": 98,
   "metadata": {},
   "outputs": [
    {
     "name": "stdout",
     "output_type": "stream",
     "text": [
      "/search/map/Mars/Viking/cerberus_enhanced\n"
     ]
    }
   ],
   "source": [
    "try_img = soup.find('a', class_ = 'itemLink product-item').get('href')\n",
    "\n",
    "print(try_img)"
   ]
  },
  {
   "cell_type": "code",
   "execution_count": 107,
   "metadata": {},
   "outputs": [],
   "source": [
    "# Click through to find full image\n",
    "a_class = soup.find_all('a', class_ = 'itemLink product-item')"
   ]
  },
  {
   "cell_type": "code",
   "execution_count": null,
   "metadata": {},
   "outputs": [],
   "source": []
  }
 ],
 "metadata": {
  "kernelspec": {
   "display_name": "Python 3",
   "language": "python",
   "name": "python3"
  },
  "language_info": {
   "codemirror_mode": {
    "name": "ipython",
    "version": 3
   },
   "file_extension": ".py",
   "mimetype": "text/x-python",
   "name": "python",
   "nbconvert_exporter": "python",
   "pygments_lexer": "ipython3",
   "version": "3.8.3"
  }
 },
 "nbformat": 4,
 "nbformat_minor": 4
}
